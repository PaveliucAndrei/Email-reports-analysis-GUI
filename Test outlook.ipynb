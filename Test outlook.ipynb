{
 "cells": [
  {
   "cell_type": "markdown",
   "metadata": {},
   "source": [
    "Libraries to inport"
   ]
  },
  {
   "cell_type": "code",
   "execution_count": 6,
   "metadata": {},
   "outputs": [],
   "source": [
    "from win32com.client import Dispatch, GetActiveObject\n",
    "from win32com.shell import shell, shellcon\n",
    "from pathlib import Path\n",
    "from datetime import date\n",
    "from shutil import make_archive\n",
    "import time\n",
    "import os\n",
    "import re\n",
    "import creds"
   ]
  },
  {
   "cell_type": "markdown",
   "metadata": {},
   "source": [
    "Access the desktop folder"
   ]
  },
  {
   "cell_type": "code",
   "execution_count": 2,
   "metadata": {},
   "outputs": [],
   "source": [
    "USSER_DESKTOP_PATH = os.path.join(os.environ['USERPROFILE'], 'Desktop')\n",
    "CSIDL_DESKTOP = shellcon.CSIDL_DESKTOP\n",
    "USSER_DESKTOP_CSIDL = shell.SHGetFolderPath(0, CSIDL_DESKTOP, None, 0)\n",
    "\n",
    "# Emails\n",
    "USER_EMAIL = creds.USER_EMAIL\n",
    "WMSERVICE_EMAIL = creds.WMSERVICE_EMAIL\n",
    "XAASIT_EMAIL = creds.XAASIT_EMAIL\n",
    "XAASIT_FOLDER = 'xaas-it (PDM)'\n",
    "# Email sub folders\n",
    "CHECK_ERROR = '1_Check_Error'\n",
    "TEST_XAASIT = 'Test Xaas'\n"
   ]
  },
  {
   "cell_type": "code",
   "execution_count": 9,
   "metadata": {},
   "outputs": [
    {
     "name": "stdout",
     "output_type": "stream",
     "text": [
      "\n"
     ]
    }
   ],
   "source": [
    "def get_running_outlook_inst():\n",
    "    try:\n",
    "        return GetActiveObject('Outlook.Application')\n",
    "    except Exception:\n",
    "        return False\n",
    "\n",
    "def email_connection(user_email_address:str, sub_folder:str, main_folder = 'Inbox'):\n",
    "    # Connect to email\n",
    "    OUTLOOK = get_running_outlook_inst()\n",
    "    if not get_running_outlook_inst():\n",
    "        OUTLOOK = Dispatch('Outlook.Application')\n",
    "    \n",
    "    for i in range(10): # Try to connect to OUTLOOK NameSpace. Thie loop is needed because of the: \"AttributeError - Outlook.Application.GetNameSpace\" thet some times appears\n",
    "        try:            \n",
    "            OUTLOOK_NAMESPACE = OUTLOOK.GetNameSpace('MAPI')\n",
    "        except AttributeError as Outlook_NameSpace_err:\n",
    "            print(f'### Erron on run: {i} -- {Outlook_NameSpace_err}')\n",
    "        else:\n",
    "            break\n",
    "    # Connect to sub email folders\n",
    "    FOLDER = OUTLOOK_NAMESPACE.Folders(user_email_address).Folders(main_folder).Folders(sub_folder)    \n",
    "    # Get the emails\n",
    "    emails = FOLDER.Items\n",
    "    # Sort messages by ReceivedTime (descending order for most recent)\n",
    "    emails.Sort('[ReceivedTime]', 1) # xlAscending = 1 # xlDescending = 2\n",
    "    \n",
    "    return OUTLOOK, emails\n",
    "\n",
    "print()"
   ]
  },
  {
   "cell_type": "code",
   "execution_count": 16,
   "metadata": {},
   "outputs": [
    {
     "name": "stdout",
     "output_type": "stream",
     "text": [
      "Andrei.Paveliuc@profidata.com\n",
      "<class 'win32com.client.CDispatch'>\n",
      "pdmoperations@profidata.com\n",
      "<class 'win32com.client.CDispatch'>\n"
     ]
    }
   ],
   "source": [
    "OUTLOOK = get_running_outlook_inst()\n",
    "if not get_running_outlook_inst():\n",
    "    OUTLOOK = Dispatch('Outlook.Application')\n",
    "\n",
    "\n",
    "for myEmailAddress in OUTLOOK.Session.Accounts:\n",
    "    print(myEmailAddress)\n",
    "    print(type(myEmailAddress))\n",
    "\n",
    "email = OUTLOOK.CreateItem(0)  # 0 = create email item\n"
   ]
  },
  {
   "cell_type": "code",
   "execution_count": 10,
   "metadata": {},
   "outputs": [
    {
     "name": "stdout",
     "output_type": "stream",
     "text": [
      "Yes: xaas-it (PDM)\n",
      "Iftaas (PDM)\n",
      "WMService\n",
      "xaas-it (PDM)\n",
      "xaas (PDM)\n",
      "Andrei.Paveliuc@profidata.com\n",
      "Public Folders - Andrei.Paveliuc@profidata.com\n",
      "---------------------------------\n"
     ]
    },
    {
     "data": {
      "text/plain": [
       "(<COMObject Outlook.Application>, <COMObject <unknown>>)"
      ]
     },
     "execution_count": 10,
     "metadata": {},
     "output_type": "execute_result"
    }
   ],
   "source": [
    "def email_connection(user_email_address:str, sub_folder:str, main_folder = 'Inbox'):\n",
    "    # Connect to email\n",
    "    OUTLOOK = Dispatch('Outlook.Application')\n",
    "    for i in range(10): # Try to connect to Outlook. Thie loop is needed because of the: \"AttributeError - Outlook.Application.GetNameSpace\" thet some times appears\n",
    "        try:\n",
    "            OUTLOOK_NameSpace = OUTLOOK.GetNameSpace('MAPI')\n",
    "        except Exception as outlook_NameSpace_err:\n",
    "            print(f'### Erron on run: {i} -- {outlook_NameSpace_err}')\n",
    "            time.sleep(1)\n",
    "        else:\n",
    "            break\n",
    "\n",
    "    if user_email_address in [str(folder) for folder in OUTLOOK_NameSpace.Folders]:\n",
    "        print(f'Yes: {user_email_address}')\n",
    "    else:\n",
    "        print(f'No: {user_email_address}')\n",
    "\n",
    "    for folder in OUTLOOK_NameSpace.Folders:\n",
    "        print(folder)\n",
    "\n",
    "    print('---------------------------------')\n",
    "    \n",
    "    FOLDER = OUTLOOK_NameSpace.Folders(user_email_address).Folders(main_folder).Folders(sub_folder)\n",
    "    \n",
    "    # Get the emails\n",
    "    emails = FOLDER.Items\n",
    "    # Sort messages by ReceivedTime (descending order for most recent)\n",
    "    emails.Sort('[ReceivedTime]', 1) # xlAscending = 1 # xlDescending = 2\n",
    "\n",
    "    return OUTLOOK, emails\n",
    "\n",
    "# OUTLOOK, Test_XaasIT_emails = email_connection(USER_EMAIL, TEST_XAASIT)\n",
    "email_connection(XAASIT_FOLDER, CHECK_ERROR)\n",
    "\n",
    "\n",
    "\n"
   ]
  },
  {
   "cell_type": "markdown",
   "metadata": {},
   "source": [
    "Check the tonnection to eachi folder and sub folder"
   ]
  },
  {
   "cell_type": "code",
   "execution_count": 13,
   "metadata": {},
   "outputs": [
    {
     "name": "stdout",
     "output_type": "stream",
     "text": [
      "Yes: xaas-it (PDM)\n",
      "Yes: Inbox\n",
      "Yes: 1_Check_Error\n",
      "---------------------------------\n",
      "<COMObject <unknown>>\n",
      "---------------------------------\n",
      "xaassit_subfolders: ['Riskline', 'XDO_Done', 'WM-Service', 'WM_EDDy_Done', 'Wildcard_SSL_Done', 'VisualCron_Done', 'UI_Done', 'SULZER_Done', 'Splunk_Done', 'SLF_Done', 'SKB_Done', 'SKAG_Done', 'RedHat_Done', 'PVB_Done', 'PMG_Done', 'PAX_Done', 'OKAG_Done', 'OeKB_Done', 'NOL_Done', 'MFI_Done', 'LUKB_Done', 'LLB_Done', 'KSKK_Done', 'IFTaas_Done', 'IFTAAS', 'HASPA_Done', 'Everyware_Done', 'EB_Done', 'EAMIS_Done', 'Daily_Copy', 'CSLP_Done', 'CS_Done', 'BNY_Done', 'BLKB_Done', 'BFR_Done', 'Axians_Done', 'AIB_Done', '8_LDAP', '7_Firewall_Alert', '6_Security_Incidents', '5_Check_Client', '4_Helix', '3_Done_general', '2_Check_OK', '1_Check_Error', '0_Prio_0_Alerts']\n"
     ]
    },
    {
     "data": {
      "text/plain": [
       "(<COMObject Outlook.Application>, <COMObject <unknown>>)"
      ]
     },
     "execution_count": 13,
     "metadata": {},
     "output_type": "execute_result"
    }
   ],
   "source": [
    "def email_connection(user_email_address:str, sub_folder:str, main_folder = 'Inbox'):\n",
    "    # Connect to email\n",
    "    OUTLOOK = Dispatch('Outlook.Application')\n",
    "    for i in range(10): # Try to connect to OUTLOOK NameSpace. Thie loop is needed because of the: \"AttributeError - Outlook.Application.GetNameSpace\" thet some times appears\n",
    "        try:            \n",
    "            OUTLOOK_NameSpace = OUTLOOK.GetNameSpace('MAPI')\n",
    "        except AttributeError as outlook_NameSpace_err:\n",
    "            print(f'### Erron on run: {i} -- {outlook_NameSpace_err}')\n",
    "        else:\n",
    "            break\n",
    "        print(i)\n",
    "    # Check if the folder/email is present in Outlook\n",
    "    if user_email_address in [str(folder) for folder in OUTLOOK_NameSpace.Folders]:\n",
    "        print(f'Yes: {user_email_address}')\n",
    "    else:\n",
    "        print(f'No: {user_email_address}')\n",
    "\n",
    "    # Check if the inbox folder is pressent \n",
    "    if main_folder in [str(folder) for folder in OUTLOOK_NameSpace.Folders(user_email_address).Folders]:\n",
    "        print(f'Yes: {main_folder}')\n",
    "    else:\n",
    "        print(f'No: {main_folder}')\n",
    "\n",
    "     # Check if the Check_Error folder is pressent \n",
    "    if sub_folder in [str(folder) for folder in OUTLOOK_NameSpace.Folders(user_email_address).Folders(main_folder).Folders]:\n",
    "        print(f'Yes: {sub_folder}')\n",
    "    else:\n",
    "        print(f'No: {sub_folder}')\n",
    "    \n",
    "    print('---------------------------------')\n",
    "    print(OUTLOOK_NameSpace.Folders(user_email_address).Folders(main_folder).Folders)\n",
    "    print('---------------------------------')\n",
    "    xaassit_subfolders = [str(folder) for folder in OUTLOOK_NameSpace.Folders(user_email_address).Folders(main_folder).Folders]\n",
    "    print(f'xaassit_subfolders: {xaassit_subfolders}')\n",
    "\n",
    "    # Connect to sub email folder\n",
    "    FOLDER = OUTLOOK_NameSpace.Folders(user_email_address).Folders(main_folder).Folders(sub_folder)\n",
    "    # Get the emails\n",
    "    emails = FOLDER.Items\n",
    "    # Sort messages by ReceivedTime (descending order for most recent)\n",
    "    emails.Sort('[ReceivedTime]', 1) # xlAscending = 1 # xlDescending = 2\n",
    "\n",
    "    return OUTLOOK, emails\n",
    "\n",
    "email_connection(XAASIT_FOLDER, CHECK_ERROR)\n",
    "# email_connection(USER_EMAIL, TEST_XAASIT)\n",
    "\n",
    "\n"
   ]
  },
  {
   "cell_type": "code",
   "execution_count": null,
   "metadata": {},
   "outputs": [],
   "source": [
    "print(OUTLOOK_NameSpace.Accounts[1])\n",
    "print(OUTLOOK_NameSpace.Folders[3])\n",
    "\n",
    "    for folder in OUTLOOK_NameSpace.Folders:\n",
    "        print(folder)\n",
    "    print('------------------------')\n",
    "    print(OUTLOOK_NameSpace.Folders[3])\n",
    "    # print(dir(OUTLOOK_NameSpace.Accounts))\n",
    "    addrBook = OUTLOOK_NameSpace.Folders.GetPrevious()\n",
    "    FOLDER = OUTLOOK_NameSpace.Folders(user_email_address).Folders(main_folder).Folders(sub_folder)\n",
    "    print(f'FOLDER: {OUTLOOK_NameSpace.Folders('Public Folders - xaasit@profidata.com')}')\n",
    "    print(f'FOLDER: {OUTLOOK_NameSpace.Folders('xaasit@profidata.com').Count}')"
   ]
  },
  {
   "cell_type": "code",
   "execution_count": null,
   "metadata": {},
   "outputs": [],
   "source": [
    "def email_connection(user_email_address:str, sub_folder:str, main_folder = 'Inbox'):\n",
    "    # Connect to email\n",
    "    for i in range(10): # Try to connect to Outlook. Thie loop is needed because of the: \"AttributeError - Outlook.Application.GetNameSpace\" thet some times appears\n",
    "        try:\n",
    "            OUTLOOK = Dispatch('Outlook.Application')\n",
    "            OUTLOOK_NameSpace = OUTLOOK.GetNameSpace('MAPI')\n",
    "        except AttributeError as outlook_NameSpace_err:\n",
    "            print(f'### Erron on run: {i} -- {outlook_NameSpace_err}')\n",
    "        print(i)\n",
    "    # Connect to sub email folder\n",
    "    FOLDER = OUTLOOK_NameSpace.Folders(user_email_address).Folders(main_folder).Folders(sub_folder)\n",
    "\n",
    "    # Get the emails\n",
    "    emails = FOLDER.Items\n",
    "    # Sort messages by ReceivedTime (descending order for most recent)\n",
    "    emails.Sort('[ReceivedTime]', 1) # xlAscending = 1 # xlDescending = 2\n",
    "\n",
    "    return OUTLOOK, emails\n",
    "\n",
    "\n",
    "OUTLOOK, Test_XaasIT_emails = email_connection(USER_EMAIL, TEST_XAASIT)\n",
    "# OUTLOOK, XaasIT_emails = email_connection(XAASIT_EMAIL, CHECK_ERROR)"
   ]
  },
  {
   "cell_type": "code",
   "execution_count": null,
   "metadata": {},
   "outputs": [],
   "source": [
    "def email_connection(user_email_address:str, sub_folder:str, main_folder = 'Inbox'):\n",
    "    # Connect to email\n",
    "    for i in range(10): # Try to connect to Outlook. Thie loop is needed because of the: \"AttributeError - Outlook.Application.GetNameSpace\" thet some times appears\n",
    "        try:\n",
    "            OUTLOOK = Dispatch('Outlook.Application')\n",
    "            OUTLOOK_NameSpace = OUTLOOK.GetNameSpace('MAPI')\n",
    "        except AttributeError as outlook_NameSpace_err:\n",
    "            print(f'### Erron on run: {i} -- {outlook_NameSpace_err}')\n",
    "        except Exception:\n",
    "            if not is_outlook_running():\n",
    "                open_outlook()\n",
    "            OUTLOOK = Dispatch('Outlook.Application')\n",
    "            OUTLOOK_NameSpace = OUTLOOK.GetNameSpace('MAPI')\n",
    "        print(i)\n",
    "    # Connect to sub email folder\n",
    "    FOLDER = OUTLOOK_NameSpace.Folders(user_email_address).Folders(main_folder).Folders(sub_folder)\n",
    "\n",
    "    # Get the emails\n",
    "    emails = FOLDER.Items\n",
    "    # Sort messages by ReceivedTime (descending order for most recent)\n",
    "    emails.Sort('[ReceivedTime]', 1) # xlAscending = 1 # xlDescending = 2\n",
    "\n",
    "    return OUTLOOK, emails\n",
    "\n",
    "OUTLOOK, Test_XaasIT_emails = email_connection(USER_EMAIL, TEST_XAASIT)\n",
    "# OUTLOOK, XaasIT_emails = email_connection(XAASIT_EMAIL, CHECK_ERROR)"
   ]
  },
  {
   "cell_type": "code",
   "execution_count": null,
   "metadata": {},
   "outputs": [],
   "source": [
    "    print(OUTLOOK_NameSpace.Folders.Count)\n",
    "    addrBook = OUTLOOK_NameSpace.Folders(user_email_address).Folders.GetFirst()\n",
    "    print(addrBook.Name)\n",
    "    FOLDER = OUTLOOK_NameSpace.Folders(user_email_address).Folders(main_folder).Folders(sub_folder)"
   ]
  },
  {
   "cell_type": "code",
   "execution_count": null,
   "metadata": {},
   "outputs": [],
   "source": [
    "    print(OUTLOOK_NameSpace.Folders.Count)\n",
    "    addrBook = OUTLOOK_NameSpace.Folders.GetFirst()\n",
    "    print(addrBook.Name)\n",
    "    FOLDER = OUTLOOK_NameSpace.Folders(user_email_address).Folders(main_folder).Folders(sub_folder)"
   ]
  },
  {
   "cell_type": "code",
   "execution_count": null,
   "metadata": {},
   "outputs": [],
   "source": [
    "# 1 - C# tot python\n",
    "# 2 - Ai folosit paranteze pentru proptirtatii\n",
    "# 3 - Diferenta dintre _Folders si Folders\n",
    "# 4 - Git\n",
    "# 5 - "
   ]
  },
  {
   "cell_type": "code",
   "execution_count": 73,
   "metadata": {},
   "outputs": [],
   "source": [
    "AI = {'client':'AI',\n",
    "      'SN_mask':'CHECK_ERROR AI Xentis SN',\n",
    "      'eMail_To':creds.AI_eMail_To,\n",
    "      'BBC':'',\n",
    "      'eMail_subject':'Unprocessed deliveries'}"
   ]
  },
  {
   "cell_type": "code",
   "execution_count": null,
   "metadata": {},
   "outputs": [],
   "source": [
    "from box import Box\n",
    "\n",
    "AI = Box({\n",
    "    'client': 'AI',\n",
    "    'SN_mask': 'CHECK_ERROR AI Xentis SN',\n",
    "    'eMail_To': '',\n",
    "    'BBC': '',\n",
    "    'eMail_subject': 'Unprocessed deliveries'\n",
    "})\n",
    "\n",
    "AI.client"
   ]
  },
  {
   "cell_type": "code",
   "execution_count": 5,
   "metadata": {},
   "outputs": [
    {
     "data": {
      "text/plain": [
       "'2024-12-13_19-11-23'"
      ]
     },
     "execution_count": 5,
     "metadata": {},
     "output_type": "execute_result"
    }
   ],
   "source": [
    "from datetime import datetime\n",
    "\n",
    "DATE = datetime.now()\n",
    "DATE = DATE.strftime('%Y-%m-%d_%H-%M-%S')\n",
    "\n",
    "DATE"
   ]
  }
 ],
 "metadata": {
  "kernelspec": {
   "display_name": "Python 3",
   "language": "python",
   "name": "python3"
  },
  "language_info": {
   "codemirror_mode": {
    "name": "ipython",
    "version": 3
   },
   "file_extension": ".py",
   "mimetype": "text/x-python",
   "name": "python",
   "nbconvert_exporter": "python",
   "pygments_lexer": "ipython3",
   "version": "3.12.0"
  }
 },
 "nbformat": 4,
 "nbformat_minor": 2
}
