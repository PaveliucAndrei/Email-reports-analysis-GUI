{
 "cells": [
  {
   "cell_type": "markdown",
   "metadata": {},
   "source": [
    "Libraries to inport"
   ]
  },
  {
   "cell_type": "code",
   "execution_count": 6,
   "metadata": {},
   "outputs": [],
   "source": [
    "from win32com.client import Dispatch\n",
    "from win32com.shell import shell, shellcon\n",
    "from pathlib import Path\n",
    "from datetime import date\n",
    "from shutil import make_archive\n",
    "import os\n",
    "import re\n",
    "import creds"
   ]
  },
  {
   "cell_type": "markdown",
   "metadata": {},
   "source": [
    "Access the desktop folder"
   ]
  },
  {
   "cell_type": "code",
   "execution_count": 9,
   "metadata": {},
   "outputs": [],
   "source": [
    "USSER_DESKTOP_PATH = os.path.join(os.environ['USERPROFILE'], 'Desktop')\n",
    "CSIDL_DESKTOP = shellcon.CSIDL_DESKTOP\n",
    "USSER_DESKTOP_CSIDL = shell.SHGetFolderPath(0, CSIDL_DESKTOP, None, 0)\n"
   ]
  },
  {
   "cell_type": "code",
   "execution_count": 10,
   "metadata": {},
   "outputs": [
    {
     "name": "stdout",
     "output_type": "stream",
     "text": [
      "<class 'str'>\n",
      "C:\\Users\\Anticus\\Desktop\n",
      "<class 'str'>\n",
      "C:\\Users\\Anticus\\Desktop\n"
     ]
    }
   ],
   "source": [
    "print(type(USSER_DESKTOP_PATH))\n",
    "print(USSER_DESKTOP_PATH)\n",
    "print(type(USSER_DESKTOP_CSIDL))\n",
    "print(USSER_DESKTOP_CSIDL)"
   ]
  }
 ],
 "metadata": {
  "kernelspec": {
   "display_name": "Python 3",
   "language": "python",
   "name": "python3"
  },
  "language_info": {
   "codemirror_mode": {
    "name": "ipython",
    "version": 3
   },
   "file_extension": ".py",
   "mimetype": "text/x-python",
   "name": "python",
   "nbconvert_exporter": "python",
   "pygments_lexer": "ipython3",
   "version": "3.12.0"
  }
 },
 "nbformat": 4,
 "nbformat_minor": 2
}
