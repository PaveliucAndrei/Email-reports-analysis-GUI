{
 "cells": [
  {
   "cell_type": "markdown",
   "metadata": {},
   "source": [
    "Libraries to inport"
   ]
  },
  {
   "cell_type": "code",
   "execution_count": 8,
   "metadata": {},
   "outputs": [],
   "source": [
    "from win32com.client import Dispatch, GetActiveObject\n",
    "from win32com.shell import shell, shellcon\n",
    "from pathlib import Path\n",
    "from datetime import date\n",
    "from shutil import make_archive\n",
    "import time\n",
    "import os\n",
    "import re\n",
    "import creds"
   ]
  },
  {
   "cell_type": "markdown",
   "metadata": {},
   "source": [
    "Access the desktop folder"
   ]
  },
  {
   "cell_type": "code",
   "execution_count": 14,
   "metadata": {},
   "outputs": [],
   "source": [
    "USSER_DESKTOP_PATH = os.path.join(os.environ['USERPROFILE'], 'Desktop')\n",
    "CSIDL_DESKTOP = shellcon.CSIDL_DESKTOP\n",
    "USSER_DESKTOP_CSIDL = shell.SHGetFolderPath(0, CSIDL_DESKTOP, None, 0)\n",
    "\n",
    "# Emails\n",
    "USER_EMAIL = creds.USER_EMAIL\n",
    "WMSERVICE_EMAIL = creds.WMSERVICE_EMAIL\n",
    "XAASIT_EMAIL = creds.XAASIT_EMAIL\n",
    "# Email sub folders\n",
    "CHECK_ERROR = '1_Check_Error'\n",
    "TEST_XAASIT = 'Test Xaas'\n"
   ]
  },
  {
   "cell_type": "code",
   "execution_count": 10,
   "metadata": {},
   "outputs": [
    {
     "name": "stdout",
     "output_type": "stream",
     "text": [
      "<class 'str'>\n",
      "C:\\Users\\Anticus\\Desktop\n",
      "<class 'str'>\n",
      "C:\\Users\\Anticus\\Desktop\n"
     ]
    }
   ],
   "source": [
    "print(type(USSER_DESKTOP_PATH))\n",
    "print(USSER_DESKTOP_PATH)\n",
    "print(type(USSER_DESKTOP_CSIDL))\n",
    "print(USSER_DESKTOP_CSIDL)"
   ]
  },
  {
   "cell_type": "code",
   "execution_count": 22,
   "metadata": {},
   "outputs": [
    {
     "name": "stdout",
     "output_type": "stream",
     "text": [
      "Mapi\n",
      "WMService\n"
     ]
    }
   ],
   "source": [
    "def email_connection(user_email_address:str, sub_folder:str, main_folder = 'Inbox'):\n",
    "    # Connect to email\n",
    "    OUTLOOK = Dispatch('Outlook.Application')\n",
    "    for i in range(10): # Try to connect to Outlook. Thie loop is needed because of the: \"AttributeError - Outlook.Application.GetNameSpace\" thet some times appears\n",
    "        try:\n",
    "            OUTLOOK_NameSpace = OUTLOOK.GetNameSpace('MAPI')\n",
    "        except Exception as outlook_NameSpace_err:\n",
    "            print(f'### Erron on run: {i} -- {outlook_NameSpace_err}')\n",
    "            time.sleep(1)\n",
    "        else:\n",
    "            break\n",
    "\n",
    "    print(OUTLOOK_NameSpace.Folders.Session)\n",
    "    addrBook = OUTLOOK_NameSpace.Folders.GetNext()\n",
    "    print(addrBook.Name)\n",
    "    FOLDER = OUTLOOK_NameSpace.Folders(user_email_address).Folders(main_folder).Folders(sub_folder)\n",
    "    \n",
    "\n",
    "    # Get the emails\n",
    "    emails = FOLDER.Items\n",
    "    # Sort messages by ReceivedTime (descending order for most recent)\n",
    "    emails.Sort('[ReceivedTime]', 1) # xlAscending = 1 # xlDescending = 2\n",
    "\n",
    "    return OUTLOOK, emails\n",
    "\n",
    "OUTLOOK, Test_XaasIT_emails = email_connection(USER_EMAIL, TEST_XAASIT)\n",
    "# OUTLOOK, XaasIT_emails = email_connection(XAASIT_EMAIL, CHECK_ERROR)\n",
    "\n"
   ]
  },
  {
   "cell_type": "code",
   "execution_count": 8,
   "metadata": {},
   "outputs": [
    {
     "name": "stdout",
     "output_type": "stream",
     "text": [
      "Outlook\n",
      "<class 'win32com.client.CDispatch'>\n"
     ]
    }
   ],
   "source": [
    "outlook_runs = GetActiveObject('Outlook.Application')\n",
    "\n",
    "print(outlook_runs)\n",
    "print(type(outlook_runs))\n",
    "\n"
   ]
  },
  {
   "cell_type": "code",
   "execution_count": null,
   "metadata": {},
   "outputs": [],
   "source": [
    "# Connect to email\n",
    "for i in range(10): # Try to connect to Outlook. Thie loop is needed because of the: \"AttributeError - Outlook.Application.GetNameSpace\" thet some times appears\n",
    "    try:\n",
    "        OUTLOOK = Dispatch('Outlook.Application')\n",
    "        OUTLOOK_NameSpace = OUTLOOK.GetNameSpace('MAPI')\n",
    "    except AttributeError as outlook_NameSpace_err:\n",
    "        print(f'### Erron on run: {i} -- {outlook_NameSpace_err}')\n",
    "    print(i)\n",
    "# Connect to sub email folder\n",
    "FOLDER = OUTLOOK_NameSpace.Folders(user_email_address).Folders(main_folder).Folders(sub_folder)  "
   ]
  },
  {
   "cell_type": "code",
   "execution_count": null,
   "metadata": {},
   "outputs": [],
   "source": [
    "# Connect to email\n",
    "for i in range(10): # Try to connect to Outlook. Thie loop is needed because of the: \"AttributeError - Outlook.Application.GetNameSpace\" thet some times appears\n",
    "    try:\n",
    "        OUTLOOK = Dispatch('Outlook.Application')\n",
    "        OUTLOOK_NameSpace = OUTLOOK.GetNameSpace('MAPI')\n",
    "    except AttributeError as outlook_NameSpace_err:\n",
    "        print(f'### Erron on run: {i} -- {outlook_NameSpace_err}')\n",
    "    except Exception:\n",
    "        if not is_outlook_running():\n",
    "            open_outlook()\n",
    "        OUTLOOK = Dispatch('Outlook.Application')\n",
    "        OUTLOOK_NameSpace = OUTLOOK.GetNameSpace('MAPI')\n",
    "    print(i)\n",
    "# Connect to sub email folder\n",
    "FOLDER = OUTLOOK_NameSpace.Folders(user_email_address).Folders(main_folder).Folders(sub_folder) "
   ]
  },
  {
   "cell_type": "code",
   "execution_count": null,
   "metadata": {},
   "outputs": [],
   "source": [
    "    print(OUTLOOK_NameSpace.Folders.Count)\n",
    "    addrBook = OUTLOOK_NameSpace.Folders(user_email_address).Folders.GetFirst()\n",
    "    print(addrBook.Name)\n",
    "    FOLDER = OUTLOOK_NameSpace.Folders(user_email_address).Folders(main_folder).Folders(sub_folder)"
   ]
  },
  {
   "cell_type": "code",
   "execution_count": null,
   "metadata": {},
   "outputs": [],
   "source": [
    "    print(OUTLOOK_NameSpace.Folders.Count)\n",
    "    addrBook = OUTLOOK_NameSpace.Folders.GetFirst()\n",
    "    print(addrBook.Name)\n",
    "    FOLDER = OUTLOOK_NameSpace.Folders(user_email_address).Folders(main_folder).Folders(sub_folder)"
   ]
  },
  {
   "cell_type": "code",
   "execution_count": null,
   "metadata": {},
   "outputs": [],
   "source": [
    "# 1 - C# tot python\n",
    "# 2 - Ai folosit paranteze pentru proptirtatii\n",
    "# 3 - Diferenta dintre _Folders si Folders\n",
    "# 4 - Git"
   ]
  },
  {
   "cell_type": "code",
   "execution_count": null,
   "metadata": {},
   "outputs": [],
   "source": []
  }
 ],
 "metadata": {
  "kernelspec": {
   "display_name": "Python 3",
   "language": "python",
   "name": "python3"
  },
  "language_info": {
   "codemirror_mode": {
    "name": "ipython",
    "version": 3
   },
   "file_extension": ".py",
   "mimetype": "text/x-python",
   "name": "python",
   "nbconvert_exporter": "python",
   "pygments_lexer": "ipython3",
   "version": "3.12.0"
  }
 },
 "nbformat": 4,
 "nbformat_minor": 2
}
